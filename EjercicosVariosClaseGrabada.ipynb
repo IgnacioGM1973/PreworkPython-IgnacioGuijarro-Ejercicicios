{
 "cells": [
  {
   "cell_type": "markdown",
   "metadata": {},
   "source": [
    "# Variables\n",
    "\n",
    "### Tipo INT\n",
    "\n",
    "### Tipo Float\n",
    "\n",
    "### Operaciones (Suma, Resta, etc...)\n",
    "\n",
    "### Tipo String\n",
    "\n",
    "### Concatenar cadenas, transformaciones, etc.\n",
    "\n",
    "### Tipo Bool (True/False)\n",
    "\n",
    "### Tipo Lista []\n",
    "\n",
    "### Tipo Diccionario {}\n"
   ]
  },
  {
   "cell_type": "code",
   "execution_count": 2,
   "metadata": {},
   "outputs": [
    {
     "name": "stdout",
     "output_type": "stream",
     "text": [
      "5\n",
      "3.5\n"
     ]
    }
   ],
   "source": [
    "numero_entero = 5\n",
    "numero_decimal = 3.5\n",
    "print(numero_entero)\n",
    "print(numero_decimal)"
   ]
  },
  {
   "cell_type": "code",
   "execution_count": 3,
   "metadata": {},
   "outputs": [
    {
     "name": "stdout",
     "output_type": "stream",
     "text": [
      "<class 'float'>\n",
      "<class 'int'>\n"
     ]
    }
   ],
   "source": [
    "print(type(numero_decimal))\n",
    "print(type(numero_entero))"
   ]
  },
  {
   "cell_type": "code",
   "execution_count": 6,
   "metadata": {},
   "outputs": [
    {
     "name": "stdout",
     "output_type": "stream",
     "text": [
      "7\n"
     ]
    }
   ],
   "source": [
    "a = 3\n",
    "b = 4\n",
    "print(a + b)"
   ]
  },
  {
   "cell_type": "code",
   "execution_count": 17,
   "metadata": {},
   "outputs": [
    {
     "name": "stdout",
     "output_type": "stream",
     "text": [
      "Mi nombre es Ignacio\n",
      "Mi nombre es Ignacio\n",
      "Mi nombre es Ignacio\n"
     ]
    }
   ],
   "source": [
    "frase = 'Mi nombre es '\n",
    "nombre = 'Ignacio'\n",
    "\n",
    "print(frase + \"\" + nombre)\n",
    "print(frase + nombre)\n",
    "print(f'{frase}{nombre}')"
   ]
  },
  {
   "cell_type": "markdown",
   "metadata": {},
   "source": [
    "#### Función upper(). Convierte a mayúsculas.\n"
   ]
  },
  {
   "cell_type": "code",
   "execution_count": 18,
   "metadata": {},
   "outputs": [
    {
     "name": "stdout",
     "output_type": "stream",
     "text": [
      "Mi nombre es IGNACIO\n"
     ]
    }
   ],
   "source": [
    "print(frase+nombre.upper())"
   ]
  },
  {
   "cell_type": "code",
   "execution_count": 19,
   "metadata": {},
   "outputs": [
    {
     "name": "stdout",
     "output_type": "stream",
     "text": [
      "True\n"
     ]
    }
   ],
   "source": [
    "verdadero = True\n",
    "faso = False\n",
    "print(verdadero)"
   ]
  },
  {
   "cell_type": "markdown",
   "metadata": {},
   "source": [
    "# Listas []\n"
   ]
  },
  {
   "cell_type": "code",
   "execution_count": 31,
   "metadata": {},
   "outputs": [
    {
     "name": "stdout",
     "output_type": "stream",
     "text": [
      "[1, 2, 3, 4, 5]\n",
      "[1, 2, 4, 3, 5, 258]\n",
      "[1, 2, 4, 3, 5]\n"
     ]
    }
   ],
   "source": [
    "lista = [1, 2, 4, 3, 5]\n",
    "\n",
    "print(sorted(lista))\n",
    "lista.append(258)\n",
    "print(lista)\n",
    "lista.remove(258)\n",
    "print(lista)"
   ]
  },
  {
   "cell_type": "markdown",
   "metadata": {},
   "source": [
    "# Diccionarios {}\n"
   ]
  },
  {
   "cell_type": "code",
   "execution_count": 36,
   "metadata": {},
   "outputs": [
    {
     "name": "stdout",
     "output_type": "stream",
     "text": [
      "{'nombre': 'Edu', 'edad': 35, 'Ciudad': 'Parla'}\n",
      "nombre = Edu\n",
      "edad = 35\n",
      "Ciudad = Parla\n"
     ]
    }
   ],
   "source": [
    "dictio = {\n",
    "    'nombre': 'Edu',\n",
    "    'edad': 35,\n",
    "    'Ciudad': 'Parla',\n",
    "}\n",
    "\n",
    "print(dictio)\n",
    "\n",
    "for clave, valor in dictio.items():\n",
    "    print(f\"{clave} = {valor}\")"
   ]
  },
  {
   "cell_type": "markdown",
   "metadata": {},
   "source": [
    "# Operadores\n"
   ]
  },
  {
   "cell_type": "markdown",
   "metadata": {},
   "source": [
    "### Operadores Aritméticos (suma, resta, prod. div. cociente, resto, potencia, raiz)\n",
    "\n",
    "### Operadores de comparación(<,>,<=,>=,==,!=)\n",
    "\n",
    "### Operadores Lógicos (and, or, not)\n",
    "\n",
    "### Operadores de asignación (=, +=, -=, \\*=, /= )\n",
    "\n",
    "### Operadores de Identidad (is, is not):\n",
    "\n",
    "### Operadores de Pertenencia (in, not in)\n"
   ]
  },
  {
   "cell_type": "markdown",
   "metadata": {},
   "source": [
    "#### --------------------------------------------------------------------------------------------------\n",
    "\n",
    "# Condicionales\n",
    "\n",
    "### if\n",
    "\n",
    "### else\n",
    "\n",
    "### elif\n"
   ]
  },
  {
   "cell_type": "code",
   "execution_count": 48,
   "metadata": {},
   "outputs": [
    {
     "name": "stdout",
     "output_type": "stream",
     "text": [
      "Eres un niño!\n"
     ]
    }
   ],
   "source": [
    "edad = int(input(\"introduce tu edad: \"))\n",
    "\n",
    "if edad < 14:\n",
    "    print(\"Eres un niño!\")\n",
    "elif edad > 14 and edad < 18:\n",
    "    print(\"Eres un adolescente!\")\n",
    "else:\n",
    "    print(\"Eres mayor de edad!\")"
   ]
  },
  {
   "cell_type": "code",
   "execution_count": 50,
   "metadata": {},
   "outputs": [
    {
     "name": "stdout",
     "output_type": "stream",
     "text": [
      "1  >>>El valor es positivo.\n",
      "-5  >>> El valor es negativo.\n",
      "8  >>>El valor es positivo.\n",
      "35  >>>El valor es positivo.\n",
      "0  >>> El valor es CERO.\n",
      "-6  >>> El valor es negativo.\n"
     ]
    }
   ],
   "source": [
    "lista2 = [1, -5, 8, 35, 0, -6]\n",
    "\n",
    "for i in lista2:\n",
    "    if i < 0:\n",
    "        print(i, \" >>> El valor es negativo.\")\n",
    "    elif i > 0:\n",
    "        print(i, \" >>>El valor es positivo.\")\n",
    "    else:\n",
    "        print(i, \" >>> El valor es CERO.\")"
   ]
  },
  {
   "cell_type": "markdown",
   "metadata": {},
   "source": [
    "# Bucles\n",
    "### FOR (texto/range/lista/diccionario)\n",
    "### WHILE "
   ]
  },
  {
   "cell_type": "code",
   "execution_count": 52,
   "metadata": {},
   "outputs": [
    {
     "name": "stdout",
     "output_type": "stream",
     "text": [
      "El elemento 1 es el 1\n",
      "El elemento 2 es el 2\n",
      "El elemento 3 es el 3\n",
      "El elemento 4 es el 4\n",
      "El elemento 5 es el 5\n",
      "El elemento 6 es el 50\n",
      "La suma total es:  65\n"
     ]
    }
   ],
   "source": [
    "numeros = [1, 2, 3, 4, 5, 50]\n",
    "contador = 0\n",
    "suma = 0\n",
    "for numero in numeros:\n",
    "    contador += 1\n",
    "    print(f\"El elemento {contador} es el {numero}\")\n",
    "    suma = suma + numero\n",
    "\n",
    "print(\"La suma total es: \", suma)"
   ]
  },
  {
   "cell_type": "code",
   "execution_count": 54,
   "metadata": {},
   "outputs": [
    {
     "name": "stdout",
     "output_type": "stream",
     "text": [
      "1\n",
      "2\n",
      "3\n",
      "4\n",
      "5\n"
     ]
    }
   ],
   "source": [
    "for i in range(1, 6):\n",
    "    print(i)"
   ]
  },
  {
   "cell_type": "code",
   "execution_count": 55,
   "metadata": {},
   "outputs": [
    {
     "name": "stdout",
     "output_type": "stream",
     "text": [
      "5\n"
     ]
    }
   ],
   "source": [
    "numeros2 = [1, 2, 3, 4, 5]\n",
    "contador = 0\n",
    "while numeros[contador] % 5 != 0:\n",
    "    contador += 1\n",
    "\n",
    "print(numeros[contador])"
   ]
  },
  {
   "cell_type": "markdown",
   "metadata": {},
   "source": [
    "# Funciones\n",
    "### Función simple y llamada:\n",
    "### Función con parámetros\n",
    "### Función con RETURN\n"
   ]
  },
  {
   "cell_type": "code",
   "execution_count": 56,
   "metadata": {},
   "outputs": [
    {
     "name": "stdout",
     "output_type": "stream",
     "text": [
      "11\n"
     ]
    }
   ],
   "source": [
    "def suma(a, b):\n",
    "    return a+b\n",
    "\n",
    "\n",
    "print(suma(5, 6))"
   ]
  },
  {
   "cell_type": "markdown",
   "metadata": {},
   "source": [
    "### Variables locales\n",
    "### Varibles Globales"
   ]
  },
  {
   "cell_type": "code",
   "execution_count": 63,
   "metadata": {},
   "outputs": [
    {
     "name": "stdout",
     "output_type": "stream",
     "text": [
      "Variable gloabal\n",
      "Variable local\n"
     ]
    }
   ],
   "source": [
    "#global var1\n",
    "var1 = \"Variable global\"\n",
    "\n",
    "def prueba():\n",
    "    var2 = \"Variable local\"\n",
    "    print(var1)\n",
    "    print(var2)\n",
    "\n",
    "prueba()\n"
   ]
  }
 ],
 "metadata": {
  "kernelspec": {
   "display_name": "Python 3",
   "language": "python",
   "name": "python3"
  },
  "language_info": {
   "codemirror_mode": {
    "name": "ipython",
    "version": 3
   },
   "file_extension": ".py",
   "mimetype": "text/x-python",
   "name": "python",
   "nbconvert_exporter": "python",
   "pygments_lexer": "ipython3",
   "version": "3.12.6"
  }
 },
 "nbformat": 4,
 "nbformat_minor": 2
}
